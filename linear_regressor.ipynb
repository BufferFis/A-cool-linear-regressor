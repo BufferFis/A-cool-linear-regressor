{
 "cells": [
  {
   "cell_type": "code",
   "execution_count": 36,
   "metadata": {},
   "outputs": [],
   "source": [
    "import math\n",
    "import copy\n",
    "import matplotlib.pyplot as plt\n",
    "import numpy as np"
   ]
  },
  {
   "cell_type": "code",
   "execution_count": 37,
   "metadata": {},
   "outputs": [],
   "source": [
    "b_init = 785.1811367994083\n",
    "w_init = np.array([ 0.39133535, 18.75376741, -53.36032453, -26.42131618])"
   ]
  },
  {
   "cell_type": "markdown",
   "metadata": {},
   "source": [
    "THE COST FUNCTION FORMULA"
   ]
  },
  {
   "cell_type": "code",
   "execution_count": 38,
   "metadata": {},
   "outputs": [],
   "source": [
    "def compute_cost(X, y, w, b):\n",
    "    \"\"\"\n",
    "    input args\n",
    "    X (ndarray(m rows and n coloumns)): Data, m examples with n features \n",
    "    y (ndarray (only m rows)): Target vals\n",
    "    w (ndarray (only n rows)): model parameter (slope)\n",
    "    b (scalar): bias\n",
    "     \n",
    "    returns scalar cost\n",
    "    \"\"\"\n",
    "    \n",
    "    m = X.shape[0]\n",
    "    cost = 0.00\n",
    "    \n",
    "    for i in range(m):\n",
    "        f_wb_i = np.dot(X[i], w) + b    # computes f(w,b) = wx + b for each element\n",
    "        cost += (f_wb_i - y[i])**2      # computes (f(w,b) for x(i) - y(i)) ^ 2\n",
    "        \n",
    "    return cost / (2 * m)"
   ]
  },
  {
   "cell_type": "markdown",
   "metadata": {},
   "source": [
    "GRADIENT CALC ALGO"
   ]
  },
  {
   "cell_type": "code",
   "execution_count": 39,
   "metadata": {},
   "outputs": [],
   "source": [
    "def compute_gradient(X, y, w, b):\n",
    "    \"\"\"\n",
    "    Computes the value of gradient, ie dj/dw and dj/db j is cost function itself\n",
    "    Args\n",
    "    same as cost function\n",
    "    \n",
    "    returns\n",
    "    dj_dw (ndarray (n rows)): The gradient of the cost w.r.t. the parameters w. \n",
    "    dj_db (scalar):       The gradient of the cost w.r.t. the parameter b.\n",
    "    \n",
    "    \"\"\"\n",
    "    m,n = X.shape\n",
    "    dj_dw = np.zeros((n,))\n",
    "    dj_db = 0.00\n",
    "    \n",
    "    for i in range(m):\n",
    "        val = np.dot(X[i], w) + b - y[i]\n",
    "        \n",
    "        for j in range(n):\n",
    "            dj_dw[j] += val * X[i, j]\n",
    "            \n",
    "        dj_db += val\n",
    "        \n",
    "    return dj_db / m, dj_dw / m  \n",
    "    "
   ]
  },
  {
   "cell_type": "markdown",
   "metadata": {},
   "source": [
    "GRADIENT DECENT ALGO"
   ]
  },
  {
   "cell_type": "code",
   "execution_count": 40,
   "metadata": {},
   "outputs": [],
   "source": [
    "def gradient_descent(X, y, w_in, b_in, cost_function, gradient_function, alpha, num_iters): \n",
    "    \"\"\"\n",
    "    \n",
    "    \n",
    "    Args:\n",
    "      X (ndarray (m,n))   : Data, m examples with n features\n",
    "      y (ndarray (m,))    : target values\n",
    "      w_in (ndarray (n,)) : initial model parameters  \n",
    "      b_in (scalar)       : initial model parameter\n",
    "      cost_function       : function to compute cost\n",
    "      gradient_function   : function to compute the gradient\n",
    "      alpha (float)       : Learning rate\n",
    "      num_iters (int)     : number of iterations to run gradient descent\n",
    "      \n",
    "    Returns:\n",
    "      w (ndarray (n,)) : Updated values of parameters \n",
    "      b (scalar)       : Updated value of parameter \n",
    "      \"\"\"\n",
    "    \n",
    "    # An array to store cost J and w's at each iteration primarily for graphing later\n",
    "    J_history = []\n",
    "    w = copy.deepcopy(w_in)  #avoid modifying global w within function\n",
    "    b = b_in\n",
    "    \n",
    "    for i in range(num_iters):\n",
    "\n",
    "        # Calculate the gradient and update the parameters\n",
    "        dj_db,dj_dw = gradient_function(X, y, w, b)   ##None\n",
    "\n",
    "        # Update Parameters using w, b, alpha and gradient\n",
    "        w = w - alpha * dj_dw               ##None\n",
    "        b = b - alpha * dj_db               ##None\n",
    "      \n",
    "        # Save cost J at each iteration\n",
    "        if i<100000:      # prevent resource exhaustion \n",
    "            J_history.append( cost_function(X, y, w, b))\n",
    "\n",
    "        # Print cost every at intervals 10 times or as many iterations if < 10\n",
    "        if i% math.ceil(num_iters / 10) == 0:\n",
    "            print(f\"Iteration {i:4d}: Cost {J_history[-1]:8.2f}   \")\n",
    "        \n",
    "    return w, b, J_history #return final w,b and J history for graphing"
   ]
  },
  {
   "cell_type": "markdown",
   "metadata": {},
   "source": [
    "MAIN FUNC"
   ]
  },
  {
   "cell_type": "code",
   "execution_count": 41,
   "metadata": {},
   "outputs": [],
   "source": [
    "def main(X_train, y_train, compute_cost, compute_gradient, alpha, iterations):\n",
    "    # initialize parameters\n",
    "    initial_w = np.zeros_like(w_init)\n",
    "    initial_b = 0.\n",
    "    \n",
    "    # run gradient descent \n",
    "    w_final, b_final, J_hist = gradient_descent(X_train, y_train, initial_w, initial_b,\n",
    "                                                        compute_cost, compute_gradient, \n",
    "                                                        alpha, iterations)\n",
    "    print(f\"b,w found by gradient descent: {b_final:0.2f},{w_final} \")\n",
    "    m,_ = X_train.shape\n",
    "    for i in range(m):\n",
    "        print(f\"prediction: {np.dot(X_train[i], w_final) + b_final:0.2f}, target value: {y_train[i]}\") "
   ]
  },
  {
   "cell_type": "code",
   "execution_count": 42,
   "metadata": {},
   "outputs": [
    {
     "name": "stdout",
     "output_type": "stream",
     "text": [
      "Iteration    0: Cost  2700.91   \n",
      "Iteration 1000: Cost  1014.56   \n",
      "Iteration 2000: Cost  1014.56   \n",
      "Iteration 3000: Cost  1014.56   \n",
      "Iteration 4000: Cost  1014.56   \n",
      "Iteration 5000: Cost  1014.56   \n",
      "Iteration 6000: Cost  1014.56   \n",
      "Iteration 7000: Cost  1014.56   \n",
      "Iteration 8000: Cost  1014.56   \n",
      "Iteration 9000: Cost  1014.56   \n",
      "b,w found by gradient descent: 0.00,[0.21863113 0.         0.         0.        ] \n",
      "prediction: 460.00, target value: 460\n",
      "prediction: 309.58, target value: 232\n",
      "prediction: 186.27, target value: 178\n"
     ]
    }
   ],
   "source": [
    "if __name__ == \"__main__\":\n",
    "    main(np.array([[2104, 5, 1, 45], [1416, 3, 2, 40], [852, 2, 1, 35]]), np.array([460, 232, 178]), compute_cost, compute_gradient, 5.0e-7, 10000 )"
   ]
  }
 ],
 "metadata": {
  "kernelspec": {
   "display_name": "Python 3",
   "language": "python",
   "name": "python3"
  },
  "language_info": {
   "codemirror_mode": {
    "name": "ipython",
    "version": 3
   },
   "file_extension": ".py",
   "mimetype": "text/x-python",
   "name": "python",
   "nbconvert_exporter": "python",
   "pygments_lexer": "ipython3",
   "version": "3.11.4"
  }
 },
 "nbformat": 4,
 "nbformat_minor": 2
}
